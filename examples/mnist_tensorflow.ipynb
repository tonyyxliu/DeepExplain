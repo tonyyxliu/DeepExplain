{
 "cells": [
  {
   "cell_type": "markdown",
   "metadata": {
    "collapsed": true
   },
   "source": [
    "## DeepExplain - Tensorflow example\n",
    "### MNIST with a 2-layers MLP"
   ]
  },
  {
   "cell_type": "code",
   "execution_count": 1,
   "metadata": {},
   "outputs": [
    {
     "name": "stdout",
     "output_type": "stream",
     "text": [
      "WARNING:tensorflow:From C:\\Users\\lyx99\\AppData\\Local\\Temp\\ipykernel_10880\\1900557790.py:13: read_data_sets (from tensorflow.contrib.learn.python.learn.datasets.mnist) is deprecated and will be removed in a future version.\n",
      "Instructions for updating:\n",
      "Please use alternatives such as official/mnist/dataset.py from tensorflow/models.\n",
      "WARNING:tensorflow:From D:\\Anaconda\\envs\\tensorflow-gpu-1\\lib\\site-packages\\tensorflow_core\\contrib\\learn\\python\\learn\\datasets\\mnist.py:260: maybe_download (from tensorflow.contrib.learn.python.learn.datasets.base) is deprecated and will be removed in a future version.\n",
      "Instructions for updating:\n",
      "Please write your own downloading logic.\n",
      "WARNING:tensorflow:From D:\\Anaconda\\envs\\tensorflow-gpu-1\\lib\\site-packages\\tensorflow_core\\contrib\\learn\\python\\learn\\datasets\\base.py:252: _internal_retry.<locals>.wrap.<locals>.wrapped_fn (from tensorflow.contrib.learn.python.learn.datasets.base) is deprecated and will be removed in a future version.\n",
      "Instructions for updating:\n",
      "Please use urllib or similar directly.\n",
      "Successfully downloaded train-images-idx3-ubyte.gz 9912422 bytes.\n",
      "WARNING:tensorflow:From D:\\Anaconda\\envs\\tensorflow-gpu-1\\lib\\site-packages\\tensorflow_core\\contrib\\learn\\python\\learn\\datasets\\mnist.py:262: extract_images (from tensorflow.contrib.learn.python.learn.datasets.mnist) is deprecated and will be removed in a future version.\n",
      "Instructions for updating:\n",
      "Please use tf.data to implement this functionality.\n",
      "Extracting C:\\Users\\lyx99\\AppData\\Local\\Temp\\train-images-idx3-ubyte.gz\n",
      "Successfully downloaded train-labels-idx1-ubyte.gz 28881 bytes.\n",
      "WARNING:tensorflow:From D:\\Anaconda\\envs\\tensorflow-gpu-1\\lib\\site-packages\\tensorflow_core\\contrib\\learn\\python\\learn\\datasets\\mnist.py:267: extract_labels (from tensorflow.contrib.learn.python.learn.datasets.mnist) is deprecated and will be removed in a future version.\n",
      "Instructions for updating:\n",
      "Please use tf.data to implement this functionality.\n",
      "Extracting C:\\Users\\lyx99\\AppData\\Local\\Temp\\train-labels-idx1-ubyte.gz\n",
      "WARNING:tensorflow:From D:\\Anaconda\\envs\\tensorflow-gpu-1\\lib\\site-packages\\tensorflow_core\\contrib\\learn\\python\\learn\\datasets\\mnist.py:110: dense_to_one_hot (from tensorflow.contrib.learn.python.learn.datasets.mnist) is deprecated and will be removed in a future version.\n",
      "Instructions for updating:\n",
      "Please use tf.one_hot on tensors.\n",
      "Successfully downloaded t10k-images-idx3-ubyte.gz 1648877 bytes.\n",
      "Extracting C:\\Users\\lyx99\\AppData\\Local\\Temp\\t10k-images-idx3-ubyte.gz\n",
      "Successfully downloaded t10k-labels-idx1-ubyte.gz 4542 bytes.\n",
      "Extracting C:\\Users\\lyx99\\AppData\\Local\\Temp\\t10k-labels-idx1-ubyte.gz\n",
      "WARNING:tensorflow:From D:\\Anaconda\\envs\\tensorflow-gpu-1\\lib\\site-packages\\tensorflow_core\\contrib\\learn\\python\\learn\\datasets\\mnist.py:290: DataSet.__init__ (from tensorflow.contrib.learn.python.learn.datasets.mnist) is deprecated and will be removed in a future version.\n",
      "Instructions for updating:\n",
      "Please use alternatives such as official/mnist/dataset.py from tensorflow/models.\n"
     ]
    }
   ],
   "source": [
    "from __future__ import absolute_import\n",
    "from __future__ import division\n",
    "from __future__ import print_function\n",
    "\n",
    "import tempfile, sys, os\n",
    "sys.path.insert(0, os.path.abspath('..'))\n",
    "\n",
    "from tensorflow.examples.tutorials.mnist import input_data\n",
    "import tensorflow as tf\n",
    "\n",
    "# Download and import MNIST data\n",
    "tmp_dir = tempfile.gettempdir()\n",
    "mnist = input_data.read_data_sets(tmp_dir, one_hot=True)"
   ]
  },
  {
   "cell_type": "code",
   "execution_count": 2,
   "metadata": {
    "collapsed": true
   },
   "outputs": [
    {
     "name": "stdout",
     "output_type": "stream",
     "text": [
      "WARNING:tensorflow:From C:\\Users\\lyx99\\AppData\\Local\\Temp\\ipykernel_10880\\2341776520.py:13: The name tf.placeholder is deprecated. Please use tf.compat.v1.placeholder instead.\n",
      "\n",
      "WARNING:tensorflow:From C:\\Users\\lyx99\\AppData\\Local\\Temp\\ipykernel_10880\\2341776520.py:18: The name tf.random_normal is deprecated. Please use tf.random.normal instead.\n",
      "\n"
     ]
    }
   ],
   "source": [
    "# Parameters\n",
    "learning_rate = 0.005\n",
    "num_steps = 2000\n",
    "batch_size = 128\n",
    "\n",
    "# Network Parameters\n",
    "n_hidden_1 = 256 # 1st layer number of neurons\n",
    "n_hidden_2 = 256 # 2nd layer number of neurons\n",
    "num_input = 784 # MNIST data input (img shape: 28*28)\n",
    "num_classes = 10 # MNIST total classes (0-9 digits)\n",
    "\n",
    "# tf Graph input\n",
    "X = tf.placeholder(\"float\", [None, num_input])\n",
    "Y = tf.placeholder(\"float\", [None, num_classes])\n",
    "\n",
    "# Store layers weight & bias\n",
    "weights = {\n",
    "    'h1': tf.Variable(tf.random_normal([num_input, n_hidden_1], mean=0.0, stddev=0.05)),\n",
    "    'h2': tf.Variable(tf.random_normal([n_hidden_1, n_hidden_2], mean=0.0, stddev=0.05)),\n",
    "    'out': tf.Variable(tf.random_normal([n_hidden_2, num_classes], mean=0.0, stddev=0.05))\n",
    "}\n",
    "biases = {\n",
    "    'b1': tf.Variable(tf.zeros([n_hidden_1])),\n",
    "    'b2': tf.Variable(tf.zeros([n_hidden_2])),\n",
    "    'out': tf.Variable(tf.zeros([num_classes]))\n",
    "}"
   ]
  },
  {
   "cell_type": "code",
   "execution_count": 3,
   "metadata": {},
   "outputs": [
    {
     "name": "stdout",
     "output_type": "stream",
     "text": [
      "WARNING:tensorflow:From C:\\Users\\lyx99\\AppData\\Local\\Temp\\ipykernel_10880\\3571601987.py:13: softmax_cross_entropy_with_logits (from tensorflow.python.ops.nn_ops) is deprecated and will be removed in a future version.\n",
      "Instructions for updating:\n",
      "\n",
      "Future major versions of TensorFlow will allow gradients to flow\n",
      "into the labels input on backprop by default.\n",
      "\n",
      "See `tf.nn.softmax_cross_entropy_with_logits_v2`.\n",
      "\n",
      "WARNING:tensorflow:From C:\\Users\\lyx99\\AppData\\Local\\Temp\\ipykernel_10880\\3571601987.py:14: The name tf.train.AdamOptimizer is deprecated. Please use tf.compat.v1.train.AdamOptimizer instead.\n",
      "\n",
      "WARNING:tensorflow:From C:\\Users\\lyx99\\AppData\\Local\\Temp\\ipykernel_10880\\3571601987.py:22: The name tf.global_variables_initializer is deprecated. Please use tf.compat.v1.global_variables_initializer instead.\n",
      "\n",
      "WARNING:tensorflow:From C:\\Users\\lyx99\\AppData\\Local\\Temp\\ipykernel_10880\\3571601987.py:28: The name tf.Session is deprecated. Please use tf.compat.v1.Session instead.\n",
      "\n",
      "Step 1, Minibatch Loss= 2.6873, Training Accuracy= 0.156\n",
      "Step 100, Minibatch Loss= 0.3178, Training Accuracy= 0.891\n",
      "Step 200, Minibatch Loss= 0.1860, Training Accuracy= 0.969\n",
      "Step 300, Minibatch Loss= 0.1289, Training Accuracy= 0.961\n",
      "Step 400, Minibatch Loss= 0.0616, Training Accuracy= 0.992\n",
      "Step 500, Minibatch Loss= 0.1911, Training Accuracy= 0.945\n",
      "Step 600, Minibatch Loss= 0.1459, Training Accuracy= 0.961\n",
      "Step 700, Minibatch Loss= 0.1052, Training Accuracy= 0.961\n",
      "Step 800, Minibatch Loss= 0.1176, Training Accuracy= 0.977\n",
      "Step 900, Minibatch Loss= 0.0448, Training Accuracy= 0.984\n",
      "Step 1000, Minibatch Loss= 0.0745, Training Accuracy= 0.977\n",
      "Step 1100, Minibatch Loss= 0.1500, Training Accuracy= 0.977\n",
      "Step 1200, Minibatch Loss= 0.0594, Training Accuracy= 0.977\n",
      "Step 1300, Minibatch Loss= 0.1073, Training Accuracy= 0.969\n",
      "Step 1400, Minibatch Loss= 0.1136, Training Accuracy= 0.961\n",
      "Step 1500, Minibatch Loss= 0.0373, Training Accuracy= 0.992\n",
      "Step 1600, Minibatch Loss= 0.0619, Training Accuracy= 0.977\n",
      "Step 1700, Minibatch Loss= 0.0296, Training Accuracy= 0.992\n",
      "Step 1800, Minibatch Loss= 0.0632, Training Accuracy= 0.977\n",
      "Step 1900, Minibatch Loss= 0.0886, Training Accuracy= 0.977\n",
      "Step 2000, Minibatch Loss= 0.0949, Training Accuracy= 0.977\n",
      "Done\n",
      "Test accuracy: 0.9636\n"
     ]
    }
   ],
   "source": [
    "# Create and train model\n",
    "def model(x, act=tf.nn.relu):  # < different activation functions lead to different explanations\n",
    "    layer_1 = act(tf.add(tf.matmul(x, weights['h1']), biases['b1']))\n",
    "    layer_2 = act(tf.add(tf.matmul(layer_1, weights['h2']), biases['b2']))\n",
    "    out_layer = tf.matmul(layer_2, weights['out']) + biases['out']\n",
    "    return out_layer\n",
    "\n",
    "# Construct model\n",
    "logits = model(X)\n",
    "\n",
    "# Define loss and optimizer\n",
    "loss_op = tf.reduce_mean(tf.nn.softmax_cross_entropy_with_logits(\n",
    "    logits=logits, labels=Y))\n",
    "optimizer = tf.train.AdamOptimizer(learning_rate=learning_rate)\n",
    "train_op = optimizer.minimize(loss_op)\n",
    "\n",
    "# Evaluate model (with test logits, for dropout to be disabled)\n",
    "correct_pred = tf.equal(tf.argmax(logits, 1), tf.argmax(Y, 1))\n",
    "accuracy = tf.reduce_mean(tf.cast(correct_pred, tf.float32))\n",
    "\n",
    "# Initialize the variables (i.e. assign their default value)\n",
    "init = tf.global_variables_initializer()\n",
    "\n",
    "# Train\n",
    "def input_transform (x): \n",
    "    return (x - 0.5) *  2\n",
    "\n",
    "sess = tf.Session()\n",
    "\n",
    "# Run the initializer\n",
    "sess.run(init)\n",
    "\n",
    "for step in range(1, num_steps+1):\n",
    "    batch_x, batch_y = mnist.train.next_batch(batch_size)\n",
    "    batch_x = input_transform(batch_x)\n",
    "    # Run optimization op (backprop)\n",
    "    sess.run(train_op, feed_dict={X: batch_x, Y: batch_y})\n",
    "    if step % 100 == 0 or step == 1:\n",
    "        # Calculate batch loss and accuracy\n",
    "        loss, acc = sess.run([loss_op, accuracy], feed_dict={X: batch_x,\n",
    "                                                             Y: batch_y})\n",
    "        print(\"Step \" + str(step) + \", Minibatch Loss= \" + \\\n",
    "              \"{:.4f}\".format(loss) + \", Training Accuracy= \" + \\\n",
    "              \"{:.3f}\".format(acc))\n",
    "\n",
    "print(\"Done\")\n",
    "\n",
    "# Calculate accuracy for MNIST test images\n",
    "test_x = input_transform(mnist.test.images)\n",
    "test_y = mnist.test.labels\n",
    "\n",
    "print(\"Test accuracy:\", \\\n",
    "    sess.run(accuracy, feed_dict={X: test_x, Y: test_y}))"
   ]
  },
  {
   "cell_type": "markdown",
   "metadata": {},
   "source": [
    "### Use DeepExplain to find attributions for each input pixel"
   ]
  },
  {
   "cell_type": "code",
   "execution_count": 4,
   "metadata": {},
   "outputs": [
    {
     "name": "stdout",
     "output_type": "stream",
     "text": [
      "WARNING:tensorflow:From d:\\Courses\\CSC3180\\Project\\demo\\DeepExplain\\src\\deepexplain\\deepexplain\\tensorflow\\methods.py:559: The name tf.get_default_session is deprecated. Please use tf.compat.v1.get_default_session instead.\n",
      "\n",
      "WARNING:tensorflow:From d:\\Courses\\CSC3180\\Project\\demo\\DeepExplain\\src\\deepexplain\\deepexplain\\tensorflow\\methods.py:638: The name tf.get_default_graph is deprecated. Please use tf.compat.v1.get_default_graph instead.\n",
      "\n"
     ]
    },
    {
     "name": "stderr",
     "output_type": "stream",
     "text": [
      "WARNING:tensorflow:From d:\\Courses\\CSC3180\\Project\\demo\\DeepExplain\\src\\deepexplain\\deepexplain\\tensorflow\\methods.py:638: The name tf.get_default_graph is deprecated. Please use tf.compat.v1.get_default_graph instead.\n",
      "\n"
     ]
    },
    {
     "name": "stdout",
     "output_type": "stream",
     "text": [
      "WARNING:tensorflow:From d:\\Courses\\CSC3180\\Project\\demo\\DeepExplain\\src\\deepexplain\\deepexplain\\tensorflow\\methods.py:336: where (from tensorflow.python.ops.array_ops) is deprecated and will be removed in a future version.\n",
      "Instructions for updating:\n",
      "Use tf.where in 2.0, which has the same broadcast rule as np.where\n"
     ]
    },
    {
     "name": "stderr",
     "output_type": "stream",
     "text": [
      "WARNING:tensorflow:From d:\\Courses\\CSC3180\\Project\\demo\\DeepExplain\\src\\deepexplain\\deepexplain\\tensorflow\\methods.py:336: where (from tensorflow.python.ops.array_ops) is deprecated and will be removed in a future version.\n",
      "Instructions for updating:\n",
      "Use tf.where in 2.0, which has the same broadcast rule as np.where\n"
     ]
    },
    {
     "name": "stdout",
     "output_type": "stream",
     "text": [
      "Done\n"
     ]
    },
    {
     "data": {
      "image/png": "[encoded data removed]",
      "text/plain": [
       "<Figure size 1728x216 with 8 Axes>"
      ]
     },
     "metadata": {
      "needs_background": "light"
     },
     "output_type": "display_data"
    }
   ],
   "source": [
    "# Import DeepExplain\n",
    "from deepexplain.tensorflow import DeepExplain\n",
    "from utils import plot, plt\n",
    "%matplotlib inline\n",
    "\n",
    "# Define the input to be tested\n",
    "test_idx = 13\n",
    "xi = test_x[[test_idx]]\n",
    "yi = test_y[test_idx] \n",
    "\n",
    "# Create a DeepExplain context. \n",
    "# IMPORTANT: the network must be created within this context.\n",
    "# In this example we have trained the network before, so we call `model(X)` to \n",
    "# recreate the network graph using the same weights that have been already trained.\n",
    "with DeepExplain(session=sess) as de:\n",
    "    logits = model(X)\n",
    "    # We run `explain()` several time to compare different attribution methods\n",
    "    attributions = {\n",
    "        # Gradient-based\n",
    "        'Saliency maps':        de.explain('saliency', logits * yi, X, xi),\n",
    "        'Gradient * Input':     de.explain('grad*input', logits * yi, X, xi),\n",
    "        'Integrated Gradients': de.explain('intgrad', logits * yi, X, xi),\n",
    "        'Epsilon-LRP':          de.explain('elrp', logits * yi, X, xi),\n",
    "        'DeepLIFT (Rescale)':   de.explain('deeplift', logits * yi, X, xi),\n",
    "        #Perturbation-based\n",
    "        '_Occlusion [1x1]':      de.explain('occlusion', logits * yi, X, xi),\n",
    "        '_Occlusion [3x3]':      de.explain('occlusion', logits * yi, X, xi, window_shape=(3,))\n",
    "    }\n",
    "    print ('Done')\n",
    "\n",
    "# Plot attributions\n",
    "n_cols = len(attributions) + 1\n",
    "fig, axes = plt.subplots(nrows=1, ncols=n_cols, figsize=(3*n_cols, 3))\n",
    "plot(xi.reshape(28, 28), cmap='Greys', axis=axes[0]).set_title('Original')\n",
    "for i, method_name in enumerate(sorted(attributions.keys())):\n",
    "    plot(attributions[method_name].reshape(28,28), xi = xi.reshape(28, 28), axis=axes[1+i]).set_title(method_name)"
   ]
  },
  {
   "cell_type": "code",
   "execution_count": null,
   "metadata": {},
   "outputs": [],
   "source": []
  }
 ],
 "metadata": {
  "interpreter": {
   "hash": "71b2c443025f846dbca53ab67ab27dc818267fe52d91c808aa06b975e3eaf7a5"
  },
  "kernelspec": {
   "display_name": "Python [conda env:tensorflow-cpu-2.1] *",
   "language": "python",
   "name": "python3"
  },
  "language_info": {
   "codemirror_mode": {
    "name": "ipython",
    "version": 3
   },
   "file_extension": ".py",
   "mimetype": "text/x-python",
   "name": "python",
   "nbconvert_exporter": "python",
   "pygments_lexer": "ipython3",
   "version": "3.7.13"
  }
 },
 "nbformat": 4,
 "nbformat_minor": 1
}
